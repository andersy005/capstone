{
 "cells": [
  {
   "cell_type": "markdown",
   "metadata": {
    "toc": true
   },
   "source": [
    "<h1>Table of Contents<span class=\"tocSkip\"></span></h1>\n",
    "<div class=\"toc\"><ul class=\"toc-item\"><li><span><a href=\"#DAC\" data-toc-modified-id=\"DAC-1\"><span class=\"toc-item-num\">1&nbsp;&nbsp;</span>DAC</a></span><ul class=\"toc-item\"><li><span><a href=\"#What-is-DAC?\" data-toc-modified-id=\"What-is-DAC?-1.1\"><span class=\"toc-item-num\">1.1&nbsp;&nbsp;</span>What is DAC?</a></span></li><li><span><a href=\"#Sampling-Frequency\" data-toc-modified-id=\"Sampling-Frequency-1.2\"><span class=\"toc-item-num\">1.2&nbsp;&nbsp;</span>Sampling Frequency</a></span></li></ul></li></ul></div>"
   ]
  },
  {
   "cell_type": "markdown",
   "metadata": {},
   "source": [
    "# DAC"
   ]
  },
  {
   "cell_type": "markdown",
   "metadata": {},
   "source": [
    "## What is DAC?"
   ]
  },
  {
   "cell_type": "markdown",
   "metadata": {},
   "source": [
    "- A DAC converts a binary digital signal into an analog representation of the same signal.\n",
    "\n",
    "- Typically the analog signal is a voltage output, though current output can also be used."
   ]
  },
  {
   "cell_type": "markdown",
   "metadata": {},
   "source": [
    "![](assets/dac1.png)"
   ]
  },
  {
   "cell_type": "markdown",
   "metadata": {},
   "source": [
    "- DACs are used in systems to capture \"digital\" signals and convert them to \"real world\" signals.\n",
    "\n",
    "- DACs rely on an input reference voltage to generate analog output from digital signals."
   ]
  },
  {
   "cell_type": "markdown",
   "metadata": {},
   "source": [
    "![](assets/dac2.png)"
   ]
  },
  {
   "cell_type": "markdown",
   "metadata": {},
   "source": [
    "- Each binary number sampled by a DAC corresponds to a different output analog level between 0 and V_ref for Unipolar and V_ref and -V_ref for Bipolar."
   ]
  },
  {
   "cell_type": "markdown",
   "metadata": {},
   "source": [
    "![](assets/dac3.png)"
   ]
  },
  {
   "cell_type": "code",
   "execution_count": null,
   "metadata": {},
   "outputs": [],
   "source": [
    "from array import array\n",
    "import math\n",
    "from pyb import DAC\n",
    "import pyb\n",
    "\n",
    "# Configure and Initialize Pin 'PA4' as analog\n",
    "pin = pyb.Pin('A4', pyb.Pin.ANALOG)\n",
    "\n",
    "# create a buffer containing a sine-wave, using half-word samples\n",
    "buf = array('H', 2048 + int(2047 * math.sin(2 * math.pi * i / 128))\n",
    "            for i in range(128))\n",
    "dac = DAC(pin, bits=12)\n",
    "dac.write_timed(buf, freq=400 * len(buf), mode=DAC.CIRCULAR)"
   ]
  },
  {
   "cell_type": "code",
   "execution_count": null,
   "metadata": {},
   "outputs": [],
   "source": []
  },
  {
   "cell_type": "code",
   "execution_count": null,
   "metadata": {},
   "outputs": [],
   "source": [
    "import pyb\n",
    "from pyb import DAC\n",
    "import math\n",
    "from array import array\n",
    "\n",
    "\n",
    "def sign(x): return math.copysign(1, x)\n",
    "\n",
    "# Configure and Initialize Pin 'PA4' as analog\n",
    "pin = pyb.Pin('A4', pyb.Pin.ANALOG)\n",
    "\n",
    "\n",
    "# create a buffer containing a square-wave, using half-word samples\n",
    "buf = array('H', 2048 + int(2047 * sign(math.sin(2 * math.pi * i / 128))) for i in range(128))\n",
    "\n",
    "# output the square-wave at 800Hz\n",
    "dac = DAC(pin, bits=8)\n",
    "#dac.write_timed(buf, 800 * len(buf), mode=DAC.CIRCULAR)\n",
    "# len(buf) = 128\n",
    "dac.write_timed(buf, freq=pyb.Timer(6, freq=400 * len(buf)), mode=DAC.CIRCULAR)"
   ]
  },
  {
   "cell_type": "markdown",
   "metadata": {},
   "source": [
    "```python\n",
    ">>> pyb.Timer(6, freq=400*len(buf))\n",
    "Timer(6, freq=51219, prescaler=0, period=1639, mode=UP, div=1)\n",
    "```"
   ]
  },
  {
   "cell_type": "markdown",
   "metadata": {},
   "source": [
    "## Sampling Frequency"
   ]
  },
  {
   "cell_type": "markdown",
   "metadata": {},
   "source": [
    "- Sampling frequency is the number of data points sampled per unit time.\n",
    "\n",
    "- Sampling frequency must be twice the frequency of the sampled signal to avoid aliasing.\n",
    "\n",
    "- A higher sampling frequency decreases the sampling period, allowing more data to be transmitted in the same amount of time"
   ]
  },
  {
   "cell_type": "code",
   "execution_count": null,
   "metadata": {},
   "outputs": [],
   "source": []
  }
 ],
 "metadata": {
  "kernelspec": {
   "display_name": "Python 3",
   "language": "python",
   "name": "python3"
  },
  "language_info": {
   "codemirror_mode": {
    "name": "ipython",
    "version": 3
   },
   "file_extension": ".py",
   "mimetype": "text/x-python",
   "name": "python",
   "nbconvert_exporter": "python",
   "pygments_lexer": "ipython3",
   "version": "3.6.4"
  },
  "toc": {
   "nav_menu": {},
   "number_sections": true,
   "sideBar": true,
   "skip_h1_title": false,
   "title_cell": "Table of Contents",
   "title_sidebar": "Contents",
   "toc_cell": true,
   "toc_position": {},
   "toc_section_display": true,
   "toc_window_display": false
  }
 },
 "nbformat": 4,
 "nbformat_minor": 2
}
