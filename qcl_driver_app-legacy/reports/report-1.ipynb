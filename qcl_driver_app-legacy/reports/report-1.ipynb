{
 "cells": [
  {
   "cell_type": "markdown",
   "metadata": {},
   "source": [
    "**An update regarding our project:**\n",
    "\n",
    "\n",
    "Project requirements:\n",
    "\n",
    "- Pulse Width Modulation\n",
    "- Regulate repetition rate for laser driver. \n",
    "\n",
    "P.S: When the laser is running in **pulsed mode** the number of pulses per second or frequency of pulses is known as the **Pulse Repetition rate (PRR)**.  The term PRR and pulse frequency are commonly used. \n",
    "\n",
    "\n",
    "\n",
    "Status of development:\n",
    "\n",
    "- We are using MicroPython, which is an implementation of Pyton Language written in C, that is optimized to run on microcontrollers.\n",
    "- We've been able to generate a square-wave using the STM32F4 DAC\n",
    "- The DAC is operating in **triggered mode**: this is allowing the updates to be initiated by a rising edge on an internal or external synchronization signal.\n",
    "\n",
    "\n",
    "Still left to be done:\n",
    "\n",
    "- Using RC components as a low pass filter to remove noise from generated signal\n",
    "\n"
   ]
  },
  {
   "cell_type": "markdown",
   "metadata": {},
   "source": [
    "**Current Implementation of Square-wave generation using DAC**"
   ]
  },
  {
   "cell_type": "markdown",
   "metadata": {},
   "source": [
    "```python\n",
    "import pyb\n",
    "from pyb import DAC\n",
    "import math\n",
    "from array import array\n",
    "\n",
    "\n",
    "# Define sign function, needed to generate square-wave\n",
    "def sign(x): return math.copysign(1, x)\n",
    "\n",
    "# Configure and Initialize Pin 'PA4' as analog\n",
    "pin = pyb.Pin('A4', pyb.Pin.ANALOG)\n",
    "\n",
    "\n",
    "# create a buffer containing a square-wave from a sine-wave, using half-word samples\n",
    "# 'H'-> C (unsigned short) -> Python(int)\n",
    "buf = array('H', 2048 + int(2047 * sign(math.sin(2 * math.pi * i / 128))) for i in range(128))\n",
    "\n",
    "\n",
    "dac = DAC(pin, bits=12)\n",
    "# output the square-wave at 800Hz\n",
    "#dac.write_timed(buf, 800 * len(buf), mode=DAC.CIRCULAR)\n",
    "\n",
    "# output the square-wave using a timer object using timer 6 triggered at 100Hz\n",
    "dac.write_timed(buf, pyb.Timer(6, freq=100), mode=DAC.CIRCULAR)\n",
    "```"
   ]
  },
  {
   "cell_type": "markdown",
   "metadata": {},
   "source": [
    "What's happening?:\n",
    "\n",
    "- Initiates a burst of RAM to DAC using a DMA transfer. The input data is treated as an array of bytes in 8-bit mode, and an array of unsigned half-words (array typecode ‘H’) in 12-bit mode.\n",
    "\n",
    "- `freq` can be an integer specifying the frequency to write the DAC samples at, using `Timer(6)`. Or it can be an already-initialised Timer object which is used to trigger the DAC sample. Valid timers are 2, 4, 5, 6, 7 and 8.\n",
    "\n",
    "- `Timer(6)`:\n",
    " - 0 channels - no direct external pin control.\n",
    " - must be Master\n",
    " - up count only with DMA control\n",
    " - 16 bit prescaler\n",
    " - used for timebase timers or triggering the DAC\n",
    " - max speed 84 MHz, max interface speed 42 MHz\n",
    "\n",
    "\n",
    "- `mode` can be `DAC.NORMAL` or `DAC.CIRCULAR`"
   ]
  },
  {
   "cell_type": "markdown",
   "metadata": {},
   "source": [
    "![](sine-wave.jpg)\n",
    "\n",
    "![](square-wave.jpg)"
   ]
  },
  {
   "cell_type": "markdown",
   "metadata": {},
   "source": [
    "**Resources:**\n",
    "- https://github.com/micropython/micropython/wiki/PWM-Timers\n",
    "- https://docs.micropython.org/en/latest/pyboard/pyboard/tutorial/timer.html?highlight=timer"
   ]
  }
 ],
 "metadata": {
  "kernelspec": {
   "display_name": "Python 3",
   "language": "python",
   "name": "python3"
  },
  "language_info": {
   "codemirror_mode": {
    "name": "ipython",
    "version": 3
   },
   "file_extension": ".py",
   "mimetype": "text/x-python",
   "name": "python",
   "nbconvert_exporter": "python",
   "pygments_lexer": "ipython3",
   "version": "3.6.4"
  },
  "toc": {
   "nav_menu": {},
   "number_sections": true,
   "sideBar": true,
   "skip_h1_title": false,
   "title_cell": "Table of Contents",
   "title_sidebar": "Contents",
   "toc_cell": false,
   "toc_position": {},
   "toc_section_display": true,
   "toc_window_display": false
  }
 },
 "nbformat": 4,
 "nbformat_minor": 2
}
