{
 "cells": [
  {
   "cell_type": "markdown",
   "metadata": {},
   "source": [
    "![](https://i.imgur.com/eN2yrfx.png)"
   ]
  },
  {
   "cell_type": "markdown",
   "metadata": {},
   "source": [
    "```python\n",
    ">>> import pyb\n",
    "\n",
    ">>> # Create a timer object\n",
    ">>> tim = pyb.Timer(4)\n",
    ">>> tim\n",
    "Timer(4)\n",
    ">>> # Initialize the timer object attached to timer number 4\n",
    ">>> tim.init(freq=10)\n",
    ">>> tim\n",
    "Timer(4, prescaler=624, period=13439, mode=UP, div=1)\n",
    "\n",
    "```\n"
   ]
  },
  {
   "cell_type": "markdown",
   "metadata": {},
   "source": [
    "- Timer is set to run at the peripheral clock speed divided by 624+1\n",
    "- It will count from 0 up to 13439, at which point it triggers an interrupt, and then starts counting again from 0.\n",
    "- These numbers are set to make the timer trigger at 10Hz\n",
    "\n",
    "- prescaler: how fast will it count\n",
    "- period: for how how much it will count for specific PWM frequency"
   ]
  },
  {
   "cell_type": "markdown",
   "metadata": {},
   "source": [
    "The source frequency of the timer is found by running\n",
    "```python\n",
    ">>> tim.source_freq()\n",
    "84000000\n",
    "```\n",
    "\n",
    "- Set timer prescaller \n",
    "- Timer count frequency is set with \n",
    "    \n",
    "    ```timer_tick_frequency = Timer_default_frequency / (prescaller_set + 1)```     \n",
    "    \n",
    "\n",
    "So we get 84MHz / 625 / 13440 = 10 Hz"
   ]
  },
  {
   "cell_type": "code",
   "execution_count": 11,
   "metadata": {},
   "outputs": [
    {
     "data": {
      "text/plain": [
       "134400.0"
      ]
     },
     "execution_count": 11,
     "metadata": {},
     "output_type": "execute_result"
    }
   ],
   "source": [
    "# timer_tick_frequency\n",
    "timer_tick_frequency = 84*1e6 / (624+1)\n",
    "timer_tick_frequency"
   ]
  },
  {
   "cell_type": "code",
   "execution_count": 8,
   "metadata": {},
   "outputs": [
    {
     "data": {
      "text/plain": [
       "10.0"
      ]
     },
     "execution_count": 8,
     "metadata": {},
     "output_type": "execute_result"
    }
   ],
   "source": [
    "84*1e6 / 625 / 13440"
   ]
  },
  {
   "cell_type": "markdown",
   "metadata": {},
   "source": [
    "**Timer Counter**\n",
    "\n",
    "```python\n",
    ">>> tim.counter()\n",
    "4935\n",
    ">>> tim.counter()\n",
    "6846\n",
    ">>> tim.counter()\n",
    "7159\n",
    "```"
   ]
  },
  {
   "cell_type": "markdown",
   "metadata": {},
   "source": [
    "```PWM_frequency = timer_tick_frequency / (TIM_Period + 1)```\n",
    "\n",
    "If you know your PWM frequency you want to have timer period set correct\n",
    "    \n",
    "```TIM_Period = timer_tick_frequency / PWM_frequency - 1```\n",
    "    \n",
    "In our case, for 10hz PWM_frequency, set Period to"
   ]
  },
  {
   "cell_type": "code",
   "execution_count": 13,
   "metadata": {},
   "outputs": [
    {
     "data": {
      "text/plain": [
       "13439.0"
      ]
     },
     "execution_count": 13,
     "metadata": {},
     "output_type": "execute_result"
    }
   ],
   "source": [
    "# period\n",
    "tim_period = timer_tick_frequency / 10 - 1\n",
    "tim_period"
   ]
  },
  {
   "cell_type": "markdown",
   "metadata": {},
   "source": [
    "**Duty Cycle**\n",
    "- To get proper duty cycle, you have simple equation\n",
    "    \n",
    "    ```pulse_length = ((TIM_Period + 1) * DutyCycle) / 100 - 1```\n",
    "    \n",
    "where DutyCycle is in percent, between 0 and 100%\n",
    "    \n",
    "- 25% duty cycle:     ```pulse_length = ((8399 + 1) * 25) / 100 - 1 = 2099```\n",
    "- 50% duty cycle:     ```pulse_length = ((8399 + 1) * 50) / 100 - 1 = 4199```\n",
    "- 75% duty cycle:     ```pulse_length = ((8399 + 1) * 75) / 100 - 1 = 6299```\n",
    "- 100% duty cycle:    ```pulse_length = ((8399 + 1) * 100) / 100 - 1 = 8399```"
   ]
  },
  {
   "cell_type": "code",
   "execution_count": 20,
   "metadata": {},
   "outputs": [
    {
     "data": {
      "text/plain": [
       "209999.0"
      ]
     },
     "execution_count": 20,
     "metadata": {},
     "output_type": "execute_result"
    }
   ],
   "source": [
    "tim_period = 84*1e6/1/ 400 - 1\n",
    "tim_period"
   ]
  },
  {
   "cell_type": "code",
   "execution_count": 21,
   "metadata": {},
   "outputs": [
    {
     "data": {
      "text/plain": [
       "20999.0"
      ]
     },
     "execution_count": 21,
     "metadata": {},
     "output_type": "execute_result"
    }
   ],
   "source": [
    "((tim_period + 1) * 10) / 100 - 1"
   ]
  },
  {
   "cell_type": "markdown",
   "metadata": {},
   "source": [
    "ch1 = timer.channel(1, pyb.Timer.PWM, pin=pin, pulse_width=25000)\n",
    "timer = pyb.Timer(4, freq=1000)\n"
   ]
  }
 ],
 "metadata": {
  "kernelspec": {
   "display_name": "Python 3",
   "language": "python",
   "name": "python3"
  },
  "language_info": {
   "codemirror_mode": {
    "name": "ipython",
    "version": 3
   },
   "file_extension": ".py",
   "mimetype": "text/x-python",
   "name": "python",
   "nbconvert_exporter": "python",
   "pygments_lexer": "ipython3",
   "version": "3.6.4"
  },
  "toc": {
   "nav_menu": {},
   "number_sections": true,
   "sideBar": true,
   "skip_h1_title": false,
   "title_cell": "Table of Contents",
   "title_sidebar": "Contents",
   "toc_cell": false,
   "toc_position": {},
   "toc_section_display": true,
   "toc_window_display": false
  }
 },
 "nbformat": 4,
 "nbformat_minor": 2
}
