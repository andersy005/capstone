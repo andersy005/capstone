{
 "cells": [
  {
   "cell_type": "code",
   "execution_count": 1,
   "metadata": {},
   "outputs": [],
   "source": [
    "import json"
   ]
  },
  {
   "cell_type": "code",
   "execution_count": 2,
   "metadata": {},
   "outputs": [],
   "source": [
    "SOH = 0x01\n",
    "STX = 0x02\n",
    "ETX = 0x03\n",
    "EOT = 0x04"
   ]
  },
  {
   "cell_type": "code",
   "execution_count": 6,
   "metadata": {},
   "outputs": [
    {
     "data": {
      "text/plain": [
       "(1, 2, 3, 4)"
      ]
     },
     "execution_count": 6,
     "metadata": {},
     "output_type": "execute_result"
    }
   ],
   "source": [
    "SOH, STX, ETX, EOT"
   ]
  },
  {
   "cell_type": "code",
   "execution_count": 7,
   "metadata": {},
   "outputs": [],
   "source": [
    "def lrc(str):\n",
    "    sum = 0\n",
    "    for b in str:\n",
    "        sum = (sum + b) & 0xff\n",
    "    return ((sum ^ 0xff) + 1) & 0xff"
   ]
  },
  {
   "cell_type": "code",
   "execution_count": 12,
   "metadata": {},
   "outputs": [],
   "source": [
    "class DATA_Packet:\n",
    "    STATE_SOH = 0\n",
    "    STATE_LEN_0 = 1\n",
    "    STATE_LEN_1 = 2\n",
    "    STATE_STX = 3\n",
    "    STATE_PAYLOAD = 4\n",
    "    STATE_ETX = 5\n",
    "    STATE_LRC = 6\n",
    "    STATE_EOT = 7\n",
    "     \n",
    "        \n",
    "    def __init__(self, serial_port, show_packets=False):\n",
    "        self.serial_port = serial_port\n",
    "        self.show_packets = show_packets\n",
    "        self.pkt_len = 0\n",
    "        self.pkt_idx = 0 \n",
    "        self.pkt = None\n",
    "        self.lrc = 0\n",
    "        self.state = DATA_Packet.STATE_SOH\n",
    "        \n",
    "a = DATA_Packet('/dev/ttyACM1')"
   ]
  },
  {
   "cell_type": "code",
   "execution_count": 13,
   "metadata": {},
   "outputs": [
    {
     "data": {
      "text/plain": [
       "'/dev/ttyACM1'"
      ]
     },
     "execution_count": 13,
     "metadata": {},
     "output_type": "execute_result"
    }
   ],
   "source": [
    "a.serial_port"
   ]
  },
  {
   "cell_type": "code",
   "execution_count": null,
   "metadata": {},
   "outputs": [],
   "source": []
  }
 ],
 "metadata": {
  "kernelspec": {
   "display_name": "Python [conda env:deeplearning]",
   "language": "python",
   "name": "conda-env-deeplearning-py"
  },
  "language_info": {
   "codemirror_mode": {
    "name": "ipython",
    "version": 3
   },
   "file_extension": ".py",
   "mimetype": "text/x-python",
   "name": "python",
   "nbconvert_exporter": "python",
   "pygments_lexer": "ipython3",
   "version": "3.6.4"
  }
 },
 "nbformat": 4,
 "nbformat_minor": 2
}
